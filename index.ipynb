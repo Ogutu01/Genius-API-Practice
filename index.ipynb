{
 "cells": [
  {
   "cell_type": "code",
   "execution_count": 1,
   "metadata": {},
   "outputs": [],
   "source": [
    "import requests\n",
    "import pandas as pd"
   ]
  },
  {
   "cell_type": "code",
   "execution_count": 3,
   "metadata": {},
   "outputs": [],
   "source": [
    "client_id = \"I6sWToBwW5iDcY2kca5_R_39MwZPSTRfB9N_AYFEaj8RDftvQa4g38Jku1YY78RZ\"\n",
    "api_key = \"kEoqSSI0DQovkNCtvBUcRZ-1L6Bc_4OA8CoZSa8MVhFDRAKLw760Evvl0u8SEzUA2rpb3RjdwhP8MO5bgEwmcQ\"\n",
    "client_token = \"KGULz3X02kd4uRCr3SMyRIVRfPQJ9A9CFJnXLGCjHy1KHlspH8Pjjk7kqNyIA4Mu\"\n",
    "base_url = \"https://api.genius.com\""
   ]
  },
  {
   "cell_type": "code",
   "execution_count": null,
   "metadata": {},
   "outputs": [],
   "source": []
  }
 ],
 "metadata": {
  "kernelspec": {
   "display_name": "learn-env",
   "language": "python",
   "name": "python3"
  },
  "language_info": {
   "codemirror_mode": {
    "name": "ipython",
    "version": 3
   },
   "file_extension": ".py",
   "mimetype": "text/x-python",
   "name": "python",
   "nbconvert_exporter": "python",
   "pygments_lexer": "ipython3",
   "version": "3.8.5"
  }
 },
 "nbformat": 4,
 "nbformat_minor": 2
}
